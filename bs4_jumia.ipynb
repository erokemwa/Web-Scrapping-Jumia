{
  "nbformat": 4,
  "nbformat_minor": 0,
  "metadata": {
    "colab": {
      "provenance": []
    },
    "kernelspec": {
      "name": "python3",
      "display_name": "Python 3"
    },
    "language_info": {
      "name": "python"
    }
  },
  "cells": [
    {
      "cell_type": "code",
      "execution_count": null,
      "metadata": {
        "id": "JmEq4f-2ArE3"
      },
      "outputs": [],
      "source": [
        "from bs4 import BeautifulSoup\n",
        "import requests\n",
        "import pandas as pd\n",
        "from csv import writer"
      ]
    },
    {
      "cell_type": "code",
      "source": [
        "url = requests.get('https://www.jumia.co.ke/smartphones/?shipped_from=country_local#catalog-listing').text"
      ],
      "metadata": {
        "id": "S19c_qg1A11v"
      },
      "execution_count": null,
      "outputs": []
    },
    {
      "cell_type": "code",
      "source": [
        "soup = BeautifulSoup(url, 'lxml')\n",
        "smartphones = soup.find_all('article', class_ = 'prd _fb col c-prd')"
      ],
      "metadata": {
        "id": "kRINQVgrBNM4"
      },
      "execution_count": null,
      "outputs": []
    },
    {
      "cell_type": "code",
      "source": [
        "smartphones"
      ],
      "metadata": {
        "id": "VwszaURaBYkZ"
      },
      "execution_count": null,
      "outputs": []
    },
    {
      "source": [
        "for phone_item in smartphones:\n",
        "    phone_title = phone_item.find(\"h3\", class_=\"name\")\n",
        "    phone_price = phone_item.find(\"div\", class_=\"prc\")\n",
        "    phone_old_price = phone_item.find(\"div\", class_=\"old\")\n",
        "    phone_discount = phone_item.find(\"div\", class_=\"bdg_dsct_sm\")\n",
        "    print(phone_title)\n",
        "    print(phone_price)\n",
        "    print(phone_old_price)\n",
        "    print(phone_discount)"
      ],
      "cell_type": "code",
      "metadata": {
        "id": "HlSiBjZXRycJ"
      },
      "execution_count": 7,
      "outputs": []
    },
    {
      "cell_type": "code",
      "source": [],
      "metadata": {
        "id": "S8VgTptaPY36"
      },
      "execution_count": null,
      "outputs": []
    },
    {
      "cell_type": "code",
      "source": [
        "# we need to strip for whitespace\n",
        "\n",
        "all_phones = []\n",
        "\n",
        "for phone_item in smartphones:\n",
        "    phone_title = phone_item.find(\"h3\", class_=\"name\")\n",
        "    phone_price = phone_item.find(\"div\", class_=\"prc\")\n",
        "    phone_old_price = phone_item.find(\"div\", class_=\"old\")\n",
        "    print(phone_title.text.strip())\n",
        "    print(phone_price.text.strip())\n",
        "    print(phone_old_price.text.strip())\n",
        "    all_phones.append((phone_title.text.strip(), phone_price.text.strip(), phone_old_price.text.strip()))\n"
      ],
      "metadata": {
        "id": "qpT1mLOBEyt9"
      },
      "execution_count": 3,
      "outputs": []
    },
    {
      "cell_type": "code",
      "source": [
        "all_phones"
      ],
      "metadata": {
        "id": "YmldWPoNF93r"
      },
      "execution_count": null,
      "outputs": []
    },
    {
      "source": [
        "# into csv\n",
        "\n",
        "df = pd.DataFrame(all_phones, columns=[\"phone_name\", \"price\", \"old_price\"]) # Pass column names during DataFrame creation\n",
        "#df.columns = [\"phone_name\", \"price\", \"old_price\"] # Remove this line\n",
        "df.head()"
      ],
      "cell_type": "code",
      "metadata": {
        "id": "IPu_cdNqSBRD",
        "outputId": "85754368-c3c6-40e0-f812-f40609287999",
        "colab": {
          "base_uri": "https://localhost:8080/",
          "height": 53
        }
      },
      "execution_count": 5,
      "outputs": [
        {
          "output_type": "execute_result",
          "data": {
            "text/plain": [
              "Empty DataFrame\n",
              "Columns: [phone_name, price, old_price]\n",
              "Index: []"
            ],
            "text/html": [
              "\n",
              "  <div id=\"df-9e7b9314-613d-47b7-823f-ef50ea1097a7\" class=\"colab-df-container\">\n",
              "    <div>\n",
              "<style scoped>\n",
              "    .dataframe tbody tr th:only-of-type {\n",
              "        vertical-align: middle;\n",
              "    }\n",
              "\n",
              "    .dataframe tbody tr th {\n",
              "        vertical-align: top;\n",
              "    }\n",
              "\n",
              "    .dataframe thead th {\n",
              "        text-align: right;\n",
              "    }\n",
              "</style>\n",
              "<table border=\"1\" class=\"dataframe\">\n",
              "  <thead>\n",
              "    <tr style=\"text-align: right;\">\n",
              "      <th></th>\n",
              "      <th>phone_name</th>\n",
              "      <th>price</th>\n",
              "      <th>old_price</th>\n",
              "    </tr>\n",
              "  </thead>\n",
              "  <tbody>\n",
              "  </tbody>\n",
              "</table>\n",
              "</div>\n",
              "    <div class=\"colab-df-buttons\">\n",
              "\n",
              "  <div class=\"colab-df-container\">\n",
              "    <button class=\"colab-df-convert\" onclick=\"convertToInteractive('df-9e7b9314-613d-47b7-823f-ef50ea1097a7')\"\n",
              "            title=\"Convert this dataframe to an interactive table.\"\n",
              "            style=\"display:none;\">\n",
              "\n",
              "  <svg xmlns=\"http://www.w3.org/2000/svg\" height=\"24px\" viewBox=\"0 -960 960 960\">\n",
              "    <path d=\"M120-120v-720h720v720H120Zm60-500h600v-160H180v160Zm220 220h160v-160H400v160Zm0 220h160v-160H400v160ZM180-400h160v-160H180v160Zm440 0h160v-160H620v160ZM180-180h160v-160H180v160Zm440 0h160v-160H620v160Z\"/>\n",
              "  </svg>\n",
              "    </button>\n",
              "\n",
              "  <style>\n",
              "    .colab-df-container {\n",
              "      display:flex;\n",
              "      gap: 12px;\n",
              "    }\n",
              "\n",
              "    .colab-df-convert {\n",
              "      background-color: #E8F0FE;\n",
              "      border: none;\n",
              "      border-radius: 50%;\n",
              "      cursor: pointer;\n",
              "      display: none;\n",
              "      fill: #1967D2;\n",
              "      height: 32px;\n",
              "      padding: 0 0 0 0;\n",
              "      width: 32px;\n",
              "    }\n",
              "\n",
              "    .colab-df-convert:hover {\n",
              "      background-color: #E2EBFA;\n",
              "      box-shadow: 0px 1px 2px rgba(60, 64, 67, 0.3), 0px 1px 3px 1px rgba(60, 64, 67, 0.15);\n",
              "      fill: #174EA6;\n",
              "    }\n",
              "\n",
              "    .colab-df-buttons div {\n",
              "      margin-bottom: 4px;\n",
              "    }\n",
              "\n",
              "    [theme=dark] .colab-df-convert {\n",
              "      background-color: #3B4455;\n",
              "      fill: #D2E3FC;\n",
              "    }\n",
              "\n",
              "    [theme=dark] .colab-df-convert:hover {\n",
              "      background-color: #434B5C;\n",
              "      box-shadow: 0px 1px 3px 1px rgba(0, 0, 0, 0.15);\n",
              "      filter: drop-shadow(0px 1px 2px rgba(0, 0, 0, 0.3));\n",
              "      fill: #FFFFFF;\n",
              "    }\n",
              "  </style>\n",
              "\n",
              "    <script>\n",
              "      const buttonEl =\n",
              "        document.querySelector('#df-9e7b9314-613d-47b7-823f-ef50ea1097a7 button.colab-df-convert');\n",
              "      buttonEl.style.display =\n",
              "        google.colab.kernel.accessAllowed ? 'block' : 'none';\n",
              "\n",
              "      async function convertToInteractive(key) {\n",
              "        const element = document.querySelector('#df-9e7b9314-613d-47b7-823f-ef50ea1097a7');\n",
              "        const dataTable =\n",
              "          await google.colab.kernel.invokeFunction('convertToInteractive',\n",
              "                                                    [key], {});\n",
              "        if (!dataTable) return;\n",
              "\n",
              "        const docLinkHtml = 'Like what you see? Visit the ' +\n",
              "          '<a target=\"_blank\" href=https://colab.research.google.com/notebooks/data_table.ipynb>data table notebook</a>'\n",
              "          + ' to learn more about interactive tables.';\n",
              "        element.innerHTML = '';\n",
              "        dataTable['output_type'] = 'display_data';\n",
              "        await google.colab.output.renderOutput(dataTable, element);\n",
              "        const docLink = document.createElement('div');\n",
              "        docLink.innerHTML = docLinkHtml;\n",
              "        element.appendChild(docLink);\n",
              "      }\n",
              "    </script>\n",
              "  </div>\n",
              "\n",
              "\n",
              "    </div>\n",
              "  </div>\n"
            ],
            "application/vnd.google.colaboratory.intrinsic+json": {
              "type": "dataframe",
              "variable_name": "df",
              "repr_error": "Out of range float values are not JSON compliant: nan"
            }
          },
          "metadata": {},
          "execution_count": 5
        }
      ]
    },
    {
      "cell_type": "code",
      "source": [
        "# the new_price should be old_price"
      ],
      "metadata": {
        "id": "zwr4XjiqHO4n"
      },
      "execution_count": 6,
      "outputs": []
    }
  ]
}