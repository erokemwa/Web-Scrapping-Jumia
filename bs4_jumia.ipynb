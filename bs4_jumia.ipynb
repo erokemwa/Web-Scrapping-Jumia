{
  "nbformat": 4,
  "nbformat_minor": 0,
  "metadata": {
    "colab": {
      "provenance": []
    },
    "kernelspec": {
      "name": "python3",
      "display_name": "Python 3"
    },
    "language_info": {
      "name": "python"
    }
  },
  "cells": [
    {
      "cell_type": "code",
      "execution_count": null,
      "metadata": {
        "id": "JmEq4f-2ArE3"
      },
      "outputs": [],
      "source": [
        "from bs4 import BeautifulSoup\n",
        "import requests\n",
        "import pandas as pd\n",
        "from csv import writer"
      ]
    },
    {
      "cell_type": "code",
      "source": [
        "url = requests.get('https://www.jumia.co.ke/smartphones/?shipped_from=country_local#catalog-listing').text"
      ],
      "metadata": {
        "id": "S19c_qg1A11v"
      },
      "execution_count": null,
      "outputs": []
    },
    {
      "cell_type": "code",
      "source": [
        "soup = BeautifulSoup(url, 'lxml')\n",
        "smartphones = soup.find_all('article', class_ = 'prd _fb col c-prd')"
      ],
      "metadata": {
        "id": "kRINQVgrBNM4"
      },
      "execution_count": null,
      "outputs": []
    },
    {
      "cell_type": "code",
      "source": [
        "smartphones"
      ],
      "metadata": {
        "id": "VwszaURaBYkZ"
      },
      "execution_count": null,
      "outputs": []
    },
    {
      "cell_type": "code",
      "source": [
        "for phone_item in smartphones:\n",
        "    phone_title = phone_item.find(\"h3\", class_=\"name\")\n",
        "    phone_price = phone_item.find(\"div\", class_=\"prc\")\n",
        "    phone_old_price = phone_item.find(\"div\", class_=\"old\")\n",
        "    phone_discount = phone_item.find(\"div\", class_=\"bdg_dsct_sm\")\n",
        "    print(phone_title)\n",
        "    print(phone_price)\n",
        "    print(phone_old_price)\n",
        "    print(phone_discount)"
      ],
      "metadata": {
        "id": "yMYbXzL0BZfd",
        "colab": {
          "base_uri": "https://localhost:8080/",
          "height": 232
        },
        "outputId": "ae3313ab-58d7-45cb-8f57-692485671a48"
      },
      "execution_count": null,
      "outputs": [
        {
          "output_type": "error",
          "ename": "NameError",
          "evalue": "ignored",
          "traceback": [
            "\u001b[0;31m---------------------------------------------------------------------------\u001b[0m",
            "\u001b[0;31mNameError\u001b[0m                                 Traceback (most recent call last)",
            "\u001b[0;32m<ipython-input-2-4698e658daf4>\u001b[0m in \u001b[0;36m<module>\u001b[0;34m\u001b[0m\n\u001b[0;32m----> 1\u001b[0;31m \u001b[0;32mfor\u001b[0m \u001b[0mphone_item\u001b[0m \u001b[0;32min\u001b[0m \u001b[0msmartphones\u001b[0m\u001b[0;34m:\u001b[0m\u001b[0;34m\u001b[0m\u001b[0;34m\u001b[0m\u001b[0m\n\u001b[0m\u001b[1;32m      2\u001b[0m     \u001b[0mphone_title\u001b[0m \u001b[0;34m=\u001b[0m \u001b[0mphone_item\u001b[0m\u001b[0;34m.\u001b[0m\u001b[0mfind\u001b[0m\u001b[0;34m(\u001b[0m\u001b[0;34m\"h3\"\u001b[0m\u001b[0;34m,\u001b[0m \u001b[0mclass_\u001b[0m\u001b[0;34m=\u001b[0m\u001b[0;34m\"name\"\u001b[0m\u001b[0;34m)\u001b[0m\u001b[0;34m\u001b[0m\u001b[0;34m\u001b[0m\u001b[0m\n\u001b[1;32m      3\u001b[0m     \u001b[0mphone_price\u001b[0m \u001b[0;34m=\u001b[0m \u001b[0mphone_item\u001b[0m\u001b[0;34m.\u001b[0m\u001b[0mfind\u001b[0m\u001b[0;34m(\u001b[0m\u001b[0;34m\"div\"\u001b[0m\u001b[0;34m,\u001b[0m \u001b[0mclass_\u001b[0m\u001b[0;34m=\u001b[0m\u001b[0;34m\"prc\"\u001b[0m\u001b[0;34m)\u001b[0m\u001b[0;34m\u001b[0m\u001b[0;34m\u001b[0m\u001b[0m\n\u001b[1;32m      4\u001b[0m     \u001b[0mphone_old_price\u001b[0m \u001b[0;34m=\u001b[0m \u001b[0mphone_item\u001b[0m\u001b[0;34m.\u001b[0m\u001b[0mfind\u001b[0m\u001b[0;34m(\u001b[0m\u001b[0;34m\"div\"\u001b[0m\u001b[0;34m,\u001b[0m \u001b[0mclass_\u001b[0m\u001b[0;34m=\u001b[0m\u001b[0;34m\"old\"\u001b[0m\u001b[0;34m)\u001b[0m\u001b[0;34m\u001b[0m\u001b[0;34m\u001b[0m\u001b[0m\n\u001b[1;32m      5\u001b[0m     \u001b[0mphone_discount\u001b[0m \u001b[0;34m=\u001b[0m \u001b[0mphone_item\u001b[0m\u001b[0;34m.\u001b[0m\u001b[0mfind\u001b[0m\u001b[0;34m(\u001b[0m\u001b[0;34m\"div\"\u001b[0m\u001b[0;34m,\u001b[0m \u001b[0mclass_\u001b[0m\u001b[0;34m=\u001b[0m\u001b[0;34m\"bdg_dsct_sm\"\u001b[0m\u001b[0;34m)\u001b[0m\u001b[0;34m\u001b[0m\u001b[0;34m\u001b[0m\u001b[0m\n",
            "\u001b[0;31mNameError\u001b[0m: name 'smartphones' is not defined"
          ]
        }
      ]
    },
    {
      "cell_type": "code",
      "source": [],
      "metadata": {
        "id": "S8VgTptaPY36"
      },
      "execution_count": null,
      "outputs": []
    },
    {
      "cell_type": "code",
      "source": [
        "# we need to strip for whitespace\n",
        "\n",
        "all_phones = []\n",
        "\n",
        "for phone_item in smartphones:\n",
        "    phone_title = phone_item.find(\"h3\", class_=\"name\")\n",
        "    phone_price = phone_item.find(\"div\", class_=\"prc\")\n",
        "    phone_old_price = phone_item.find(\"div\", class_=\"old\")\n",
        "    print(phone_title.text.strip())\n",
        "    print(phone_price.text.strip())\n",
        "    print(phone_old_price.text.strip())\n",
        "    all_phones.append((phone_title.text.strip(), phone_price.text.strip(), phone_old_price.text.strip()))\n"
      ],
      "metadata": {
        "colab": {
          "base_uri": "https://localhost:8080/"
        },
        "id": "qpT1mLOBEyt9",
        "outputId": "a40c9d39-78fe-43af-fa0a-fca520c9ceb3"
      },
      "execution_count": null,
      "outputs": [
        {
          "output_type": "stream",
          "name": "stdout",
          "text": [
            "Infinix Smart 6, 6.6\", 2GB RAM, 32GB, 5000mAh,Polar Black\n",
            "KSh 10,299\n",
            "KSh 13,053\n",
            "Tecno Pop 6 6.1\", 2GB RAM+32GB, 8MP, 4G (Dual Sim) 5000MAh -Lime Green\n",
            "KSh 8,819\n",
            "KSh 13,499\n",
            "Infinix Smart 6, 6.6\", 32GB + 2GB RAM (Dual SIM), 5000mAh, Quartz Cyan\n",
            "KSh 10,696\n",
            "KSh 18,999\n",
            "XIAOMI Redmi 9A, 6.53\", 2GB+32GB, 13.0MP, 5000mAh, 4G LTE, Dual SIM - Grey\n",
            "KSh 11,499\n",
            "KSh 12,499\n",
            "XIAOMI Redmi 10A, 6.53\", 3GB+64GB, 13.0MP, 5000mAh, 4G LTE, Dual SIM - Graphite Grey\n",
            "KSh 14,799\n",
            "KSh 16,199\n",
            "Oppo A16k, 6.52\", 32GB + 3GB RAM (Dual SIM), 4230mAh - Blue\n",
            "KSh 14,278\n",
            "KSh 17,999\n",
            "Nokia C1 2nd Edition, 5.45\", 1GB +16GB - (DUAL SIM),Android 11, Blue\n",
            "KSh 7,139\n",
            "KSh 10,999\n",
            "XIAOMI Redmi 10 6.5'' Inches 4+128GB 50MP Rear Camera 4G Smartphone - Grey\n",
            "KSh 18,799\n",
            "KSh 24,049\n",
            "Samsung Galaxy A13, 6.6\", 64GB + 4GB RAM (Dual SIM), 5000mAh, Black\n",
            "KSh 19,299\n",
            "KSh 24,521\n",
            "Oppo A83 64GB + 4GB RAM - 4G LTE Dual SIM -  5.7-inch,Red\n",
            "KSh 9,990\n",
            "KSh 19,980\n",
            "Tecno Pova Neo, 6.8\", 64GB+ 4GB (Dual SIM),4G LTE, 6000mAh, Obsidian Black\n",
            "KSh 15,999\n",
            "KSh 20,129\n",
            "Tecno Pop 6 GO, 6\", 32GB + 2GB RAM ,(Dual SIM), 4000mAh,  + CLASSIC GIFTS\n",
            "KSh 9,445\n",
            "KSh 11,199\n",
            "Samsung Galaxy A13, 6.6\", 64GB + 4GB RAM (Dual SIM), 5000mAh, Blue\n",
            "KSh 19,299\n",
            "KSh 24,521\n",
            "Samsung Galaxy A03s – 6.5″ – 32GB + 3GB – Dual SIM - Black\n",
            "KSh 13,699\n",
            "KSh 17,384\n",
            "Samsung Galaxy A13, 6.6\", 128GB + 4GB RAM (Dual SIM), 5000mAh, Black\n",
            "KSh 21,699\n",
            "KSh 27,571\n",
            "Samsung Galaxy A03 Core, 6.5\" 32GB + 2G, 5000mAh,Dual Sim- (Black) Onyx\n",
            "KSh 11,699\n",
            "KSh 14,858\n",
            "Oppo A83 64GB + 4GB RAM - 4G LTE Dual SIM -  5.7-inch,Black\n",
            "KSh 9,790\n",
            "KSh 19,980\n",
            "XIAOMI Redmi 9C 6.53'', 4GB+128GB, 13MP+2MP+2MP Camera, 4G, Dual SIM - Lavender Purple\n",
            "KSh 16,299\n",
            "KSh 21,999\n",
            "Tecno CAMON 19, 6.8\", 128GB+ 4GB (Dual SIM), (4G LTE) 5000mAh, Eco Black\n",
            "KSh 22,399\n",
            "KSh 23,999\n",
            "Tecno CAMON 19, 6.8\", 128GB+ 4GB (Dual SIM), (4G LTE) 5000mAh, Eco Black\n",
            "KSh 22,599\n",
            "KSh 27,999\n",
            "Samsung Galaxy A23, 6.6″, 64GB + 4GB RAM (Dual SIM), 5000mAh, Blue\n",
            "KSh 22,499\n",
            "KSh 28,669\n",
            "Tecno CAMON 19, 6.8\", 128GB+ 4GB (Dual SIM), (4G LTE) 5000mAh, MEMPHIS GREEN\n",
            "KSh 22,750\n",
            "KSh 29,999\n",
            "Samsung Galaxy A03 6.5\" 3GB RAM+32GB ROM 48 MP //Dual SIM-Blue+FREE EARBUDS+C+W\n",
            "KSh 13,990\n",
            "KSh 17,999\n",
            "Itel A58 Lite, 6.3\", 32GB + 2GB RAM (Dual SIM), 4000mAh, Blue Wave\n",
            "KSh 8,255\n",
            "KSh 8,999\n",
            "Infinix Smart 6, 6.6\", 2GB RAM, 32GB, Android 10, XOS 7.6, 5000mAh, 3G - Ocean Wave\n",
            "KSh 10,695\n",
            "KSh 15,999\n",
            "Itel A14 Plus, 4\", 8GB + 1GB RAM, 2500mAh - Blue\n",
            "KSh 4,443\n",
            "KSh 4,999\n",
            "Oppo A16k, 6.52\", 32GB + 3GB RAM (Dual SIM), 4230mAh - Black\n",
            "KSh 14,278\n",
            "KSh 17,999\n",
            "Samsung Galaxy A03, 6.5\", 64GB + 4GB RAM (Dual SIM), 5000mAh, Black\n",
            "KSh 15,299\n",
            "KSh 19,397\n",
            "Infinix Smart 6, 6.6\", 32GB + 2GB RAM (Dual SIM), 5000mAh +FREE GIFTS\n",
            "KSh 11,100\n",
            "KSh 11,499\n",
            "Samsung Galaxy A03, 6.5\", 64GB + 4GB RAM (Dual SIM), 5000mAh, Blue\n",
            "KSh 15,299\n",
            "KSh 19,397\n",
            "XIAOMI Redmi 9A 6.53\", 2GB RAM+32GB, 5000mAh, Dual SIM, 4G LTE - Glacial Blue\n",
            "KSh 11,499\n",
            "KSh 12,499\n",
            "Tecno Spark 8C 6.6\" 64GB+ 2GB RAM Dual Sim, Black + Smart Watch + P.Bank\n",
            "KSh 13,898\n",
            "KSh 25,898\n",
            "Infinix HOT 12i, 6.6''{ 64GB+2GB Expandable To 4GBRAM} (Dual SIM), 4G LTE, 5000mAh,black\n",
            "KSh 12,995\n",
            "KSh 19,999\n",
            "XIAOMI Redmi 10C 6.71'', 4GB+128GB, 50MP+2MP Camera, 4G, Dual SIM - Blue\n",
            "KSh 19,099\n",
            "KSh 21,999\n",
            "Ulefone Note 6, 6.1\", 32GB + 1GB RAM (Dual SIM), 3300mAh, Black\n",
            "KSh 7,599\n",
            "KSh 11,999\n",
            "XIAOMI Redmi 10C 6.71'', 4GB+64GB, 50MP+2MP Camera, 4G, 5000MAH Battery Dual SIM- Blue\n",
            "KSh 16,499\n",
            "KSh 19,239\n",
            "Itel A33 Plus,,5.0\" Screen Display(16GB+1GB),Fingerprint,(Dual Sim) Blue,,w.s\"\n",
            "KSh 6,160\n",
            "KSh 10,000\n",
            "Tecno Spark 8C 6.6\" 64GB ROM + 2GB RAM, Dual Sim, Purple\n",
            "KSh 12,999\n",
            "KSh 18,999\n",
            "Samsung Galaxy A13, 6.6\", 128GB + 4GB (Dual SIM), Blue + Smart Watch & Power Bank\n",
            "KSh 22,997\n",
            "KSh 32,999\n",
            "Safaricom Neon Ray Pro 5.5''//1GB RAM+16GB ROM //4G //2500mAh -Black\n",
            "KSh 4,690\n",
            "KSh 8,000\n"
          ]
        }
      ]
    },
    {
      "cell_type": "code",
      "source": [
        "all_phones"
      ],
      "metadata": {
        "id": "YmldWPoNF93r"
      },
      "execution_count": null,
      "outputs": []
    },
    {
      "cell_type": "code",
      "source": [
        "# into csv\n",
        "\n",
        "df = pd.DataFrame(all_phones)\n",
        "df.columns = [\"phone_name\", \"price\", \"old_price\"]\n",
        "df.head()"
      ],
      "metadata": {
        "colab": {
          "base_uri": "https://localhost:8080/",
          "height": 206
        },
        "id": "lCIJbTV8G6Ls",
        "outputId": "76854a27-253b-43b0-8c18-3381fa36072e"
      },
      "execution_count": null,
      "outputs": [
        {
          "output_type": "execute_result",
          "data": {
            "text/plain": [
              "                                          phone_name       price   new_price\n",
              "0  Infinix Smart 6, 6.6\", 2GB RAM, 32GB, 5000mAh,...  KSh 10,299  KSh 13,053\n",
              "1  Tecno Pop 6 6.1\", 2GB RAM+32GB, 8MP, 4G (Dual ...   KSh 8,819  KSh 13,499\n",
              "2  Infinix Smart 6, 6.6\", 32GB + 2GB RAM (Dual SI...  KSh 10,696  KSh 18,999\n",
              "3  XIAOMI Redmi 9A, 6.53\", 2GB+32GB, 13.0MP, 5000...  KSh 11,499  KSh 12,499\n",
              "4  XIAOMI Redmi 10A, 6.53\", 3GB+64GB, 13.0MP, 500...  KSh 14,799  KSh 16,199"
            ],
            "text/html": [
              "\n",
              "  <div id=\"df-84afecef-d90f-441e-a820-fbb0079cd386\">\n",
              "    <div class=\"colab-df-container\">\n",
              "      <div>\n",
              "<style scoped>\n",
              "    .dataframe tbody tr th:only-of-type {\n",
              "        vertical-align: middle;\n",
              "    }\n",
              "\n",
              "    .dataframe tbody tr th {\n",
              "        vertical-align: top;\n",
              "    }\n",
              "\n",
              "    .dataframe thead th {\n",
              "        text-align: right;\n",
              "    }\n",
              "</style>\n",
              "<table border=\"1\" class=\"dataframe\">\n",
              "  <thead>\n",
              "    <tr style=\"text-align: right;\">\n",
              "      <th></th>\n",
              "      <th>phone_name</th>\n",
              "      <th>price</th>\n",
              "      <th>new_price</th>\n",
              "    </tr>\n",
              "  </thead>\n",
              "  <tbody>\n",
              "    <tr>\n",
              "      <th>0</th>\n",
              "      <td>Infinix Smart 6, 6.6\", 2GB RAM, 32GB, 5000mAh,...</td>\n",
              "      <td>KSh 10,299</td>\n",
              "      <td>KSh 13,053</td>\n",
              "    </tr>\n",
              "    <tr>\n",
              "      <th>1</th>\n",
              "      <td>Tecno Pop 6 6.1\", 2GB RAM+32GB, 8MP, 4G (Dual ...</td>\n",
              "      <td>KSh 8,819</td>\n",
              "      <td>KSh 13,499</td>\n",
              "    </tr>\n",
              "    <tr>\n",
              "      <th>2</th>\n",
              "      <td>Infinix Smart 6, 6.6\", 32GB + 2GB RAM (Dual SI...</td>\n",
              "      <td>KSh 10,696</td>\n",
              "      <td>KSh 18,999</td>\n",
              "    </tr>\n",
              "    <tr>\n",
              "      <th>3</th>\n",
              "      <td>XIAOMI Redmi 9A, 6.53\", 2GB+32GB, 13.0MP, 5000...</td>\n",
              "      <td>KSh 11,499</td>\n",
              "      <td>KSh 12,499</td>\n",
              "    </tr>\n",
              "    <tr>\n",
              "      <th>4</th>\n",
              "      <td>XIAOMI Redmi 10A, 6.53\", 3GB+64GB, 13.0MP, 500...</td>\n",
              "      <td>KSh 14,799</td>\n",
              "      <td>KSh 16,199</td>\n",
              "    </tr>\n",
              "  </tbody>\n",
              "</table>\n",
              "</div>\n",
              "      <button class=\"colab-df-convert\" onclick=\"convertToInteractive('df-84afecef-d90f-441e-a820-fbb0079cd386')\"\n",
              "              title=\"Convert this dataframe to an interactive table.\"\n",
              "              style=\"display:none;\">\n",
              "        \n",
              "  <svg xmlns=\"http://www.w3.org/2000/svg\" height=\"24px\"viewBox=\"0 0 24 24\"\n",
              "       width=\"24px\">\n",
              "    <path d=\"M0 0h24v24H0V0z\" fill=\"none\"/>\n",
              "    <path d=\"M18.56 5.44l.94 2.06.94-2.06 2.06-.94-2.06-.94-.94-2.06-.94 2.06-2.06.94zm-11 1L8.5 8.5l.94-2.06 2.06-.94-2.06-.94L8.5 2.5l-.94 2.06-2.06.94zm10 10l.94 2.06.94-2.06 2.06-.94-2.06-.94-.94-2.06-.94 2.06-2.06.94z\"/><path d=\"M17.41 7.96l-1.37-1.37c-.4-.4-.92-.59-1.43-.59-.52 0-1.04.2-1.43.59L10.3 9.45l-7.72 7.72c-.78.78-.78 2.05 0 2.83L4 21.41c.39.39.9.59 1.41.59.51 0 1.02-.2 1.41-.59l7.78-7.78 2.81-2.81c.8-.78.8-2.07 0-2.86zM5.41 20L4 18.59l7.72-7.72 1.47 1.35L5.41 20z\"/>\n",
              "  </svg>\n",
              "      </button>\n",
              "      \n",
              "  <style>\n",
              "    .colab-df-container {\n",
              "      display:flex;\n",
              "      flex-wrap:wrap;\n",
              "      gap: 12px;\n",
              "    }\n",
              "\n",
              "    .colab-df-convert {\n",
              "      background-color: #E8F0FE;\n",
              "      border: none;\n",
              "      border-radius: 50%;\n",
              "      cursor: pointer;\n",
              "      display: none;\n",
              "      fill: #1967D2;\n",
              "      height: 32px;\n",
              "      padding: 0 0 0 0;\n",
              "      width: 32px;\n",
              "    }\n",
              "\n",
              "    .colab-df-convert:hover {\n",
              "      background-color: #E2EBFA;\n",
              "      box-shadow: 0px 1px 2px rgba(60, 64, 67, 0.3), 0px 1px 3px 1px rgba(60, 64, 67, 0.15);\n",
              "      fill: #174EA6;\n",
              "    }\n",
              "\n",
              "    [theme=dark] .colab-df-convert {\n",
              "      background-color: #3B4455;\n",
              "      fill: #D2E3FC;\n",
              "    }\n",
              "\n",
              "    [theme=dark] .colab-df-convert:hover {\n",
              "      background-color: #434B5C;\n",
              "      box-shadow: 0px 1px 3px 1px rgba(0, 0, 0, 0.15);\n",
              "      filter: drop-shadow(0px 1px 2px rgba(0, 0, 0, 0.3));\n",
              "      fill: #FFFFFF;\n",
              "    }\n",
              "  </style>\n",
              "\n",
              "      <script>\n",
              "        const buttonEl =\n",
              "          document.querySelector('#df-84afecef-d90f-441e-a820-fbb0079cd386 button.colab-df-convert');\n",
              "        buttonEl.style.display =\n",
              "          google.colab.kernel.accessAllowed ? 'block' : 'none';\n",
              "\n",
              "        async function convertToInteractive(key) {\n",
              "          const element = document.querySelector('#df-84afecef-d90f-441e-a820-fbb0079cd386');\n",
              "          const dataTable =\n",
              "            await google.colab.kernel.invokeFunction('convertToInteractive',\n",
              "                                                     [key], {});\n",
              "          if (!dataTable) return;\n",
              "\n",
              "          const docLinkHtml = 'Like what you see? Visit the ' +\n",
              "            '<a target=\"_blank\" href=https://colab.research.google.com/notebooks/data_table.ipynb>data table notebook</a>'\n",
              "            + ' to learn more about interactive tables.';\n",
              "          element.innerHTML = '';\n",
              "          dataTable['output_type'] = 'display_data';\n",
              "          await google.colab.output.renderOutput(dataTable, element);\n",
              "          const docLink = document.createElement('div');\n",
              "          docLink.innerHTML = docLinkHtml;\n",
              "          element.appendChild(docLink);\n",
              "        }\n",
              "      </script>\n",
              "    </div>\n",
              "  </div>\n",
              "  "
            ]
          },
          "metadata": {},
          "execution_count": 20
        }
      ]
    },
    {
      "cell_type": "code",
      "source": [
        "# the new_price should be old_price "
      ],
      "metadata": {
        "id": "zwr4XjiqHO4n"
      },
      "execution_count": null,
      "outputs": []
    }
  ]
}